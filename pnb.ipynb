{
  "nbformat": 4,
  "nbformat_minor": 0,
  "metadata": {
    "colab": {
      "provenance": [],
      "authorship_tag": "ABX9TyOG3U2qB1BShcf1/7vJ7IE2",
      "include_colab_link": true
    },
    "kernelspec": {
      "name": "python3",
      "display_name": "Python 3"
    },
    "language_info": {
      "name": "python"
    }
  },
  "cells": [
    {
      "cell_type": "markdown",
      "metadata": {
        "id": "view-in-github",
        "colab_type": "text"
      },
      "source": [
        "<a href=\"https://colab.research.google.com/github/sj7890/poer-bi-project/blob/main/pnb.ipynb\" target=\"_parent\"><img src=\"https://colab.research.google.com/assets/colab-badge.svg\" alt=\"Open In Colab\"/></a>"
      ]
    },
    {
      "cell_type": "code",
      "source": [
        "#Take three numbers as an input from user. Find the product and sum of all the three numbers provided.\n",
        "a=int(input(\"Enter the first number: \"))\n",
        "b=int(input(\"Enter the second number: \"))\n",
        "c=int(input(\"Enter the third number: \"))\n",
        "#sum of product of all three numbers\n",
        "sum=a+b+c\n",
        "print(\"sum of product of three numbers: \", sum)"
      ],
      "metadata": {
        "colab": {
          "base_uri": "https://localhost:8080/"
        },
        "id": "56zC4wf0GHRD",
        "outputId": "7af11cf7-8ad5-49e0-8197-054314216d5c"
      },
      "execution_count": 6,
      "outputs": [
        {
          "output_type": "stream",
          "name": "stdout",
          "text": [
            "Enter the first number: 50\n",
            "Enter the second number: 60\n",
            "Enter the third number: 40\n",
            "sum of product of three numbers:  150\n"
          ]
        }
      ]
    },
    {
      "cell_type": "code",
      "source": [
        "#Take three inputs from user and find the datatype of all three user input.\n",
        "def check_user_input(input):\n",
        "    try:\n",
        "        # Convert it into integer\n",
        "        val = int(input)\n",
        "        print(\"Input is an integer number. Number = \", val)\n",
        "    except ValueError:\n",
        "        try:\n",
        "            # Convert it into float\n",
        "            val = float(input)\n",
        "            print(\"Input is a float  number. Number = \", val)\n",
        "        except ValueError:\n",
        "            print(\"No.. input is not a number. It's a string\")\n",
        "\n",
        "\n",
        "input1 = input(\"Enter your Age \")\n",
        "check_user_input(input1)\n",
        "\n",
        "input2 = input(\"Enter any number \")\n",
        "check_user_input(input2)\n",
        "\n",
        "input2 = input(\"Enter the last number \")\n",
        "check_user_input(input2)"
      ],
      "metadata": {
        "colab": {
          "base_uri": "https://localhost:8080/"
        },
        "id": "idKEogbLG8bb",
        "outputId": "94b333de-0500-4e57-99ec-d7d66b23238a"
      },
      "execution_count": 10,
      "outputs": [
        {
          "output_type": "stream",
          "name": "stdout",
          "text": [
            "Enter your Age 25\n",
            "Input is an integer number. Number =  25\n",
            "Enter any number 50.12\n",
            "Input is a float  number. Number =  50.12\n",
            "Enter the last number shubham\n",
            "No.. input is not a number. It's a string\n"
          ]
        }
      ]
    },
    {
      "cell_type": "code",
      "source": [
        "#Take users full name as an input. Try to find first name of user from input provided.\n",
        "str=input(\"Enter the full name: \")\n",
        "fname=input(\"Enter the name:\")\n",
        "print(\"the first name is:\", fname)\n"
      ],
      "metadata": {
        "colab": {
          "base_uri": "https://localhost:8080/"
        },
        "id": "Lm2ApaZzJBDS",
        "outputId": "d5238c68-7f2f-40f8-96d4-2e815be56877"
      },
      "execution_count": 15,
      "outputs": [
        {
          "output_type": "stream",
          "name": "stdout",
          "text": [
            "Enter the full name: shubham jeevan jadhav\n",
            "Enter the name:shubham\n",
            "the first name is: shubham\n"
          ]
        }
      ]
    },
    {
      "cell_type": "code",
      "source": [
        "from re import TEMPLATE\n",
        "# Take 2 numbers from user and swap the values of variables into each other.\n",
        "a=int(input(\"Enter the first number: \"))\n",
        "b=int(input(\"Enter the second number: \"))\n",
        "#creat tempory variable to store and swap value\n",
        "temp=a\n",
        "a=b\n",
        "b=temp\n",
        "print(\"The first number after swaping: {}\".format(a))\n",
        "print(\"The second number after swaping: {}\".format(b))"
      ],
      "metadata": {
        "colab": {
          "base_uri": "https://localhost:8080/"
        },
        "id": "aEUvKD7qRPtD",
        "outputId": "e30cc84c-7959-4afe-9111-c744aa7e92c2"
      },
      "execution_count": 17,
      "outputs": [
        {
          "output_type": "stream",
          "name": "stdout",
          "text": [
            "Enter the first number: 20\n",
            "Enter the second number: 50\n",
            "The first number after swaping: 50\n",
            "The second number after swaping: 20\n"
          ]
        }
      ]
    },
    {
      "cell_type": "code",
      "source": [
        "\n",
        "#Take three inputs from user: integer, float and string: find all the functions that are associated with each object "
      ],
      "metadata": {
        "id": "Zg7SSGhxbowy"
      },
      "execution_count": 18,
      "outputs": []
    },
    {
      "cell_type": "code",
      "source": [
        "c=complex(input(\"Enter the number : \"))\n",
        "l=list(input(\"Enter the list of item: \"))\n",
        "a=int(input(\"Enter the first name: \"))\n",
        "b=float(input(\"Enter the second number: \"))\n",
        "s=input(\"Enter the name: \")\n",
        "print(\"Enter the choice: \", type(a),type(b),type(s),type(c),type(l))"
      ],
      "metadata": {
        "colab": {
          "base_uri": "https://localhost:8080/"
        },
        "id": "w54gVctygWw9",
        "outputId": "cccbe85b-c19a-4caf-a9a8-bae81e875f11"
      },
      "execution_count": 29,
      "outputs": [
        {
          "output_type": "stream",
          "name": "stdout",
          "text": [
            "Enter the number : 5+4j\n",
            "Enter the list of item: [apple,orange, graphes, coconut]\n",
            "Enter the first name: 50\n",
            "Enter the second number: 6.3\n",
            "Enter the name: fantigo\n",
            "Enter the choice:  <class 'int'> <class 'float'> <class 'str'> <class 'complex'> <class 'list'>\n"
          ]
        }
      ]
    },
    {
      "cell_type": "code",
      "source": [],
      "metadata": {
        "id": "bCA_8bmIg8Ac"
      },
      "execution_count": 26,
      "outputs": []
    }
  ]
}