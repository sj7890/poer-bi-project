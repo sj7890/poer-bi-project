{
  "nbformat": 4,
  "nbformat_minor": 0,
  "metadata": {
    "colab": {
      "provenance": [],
      "authorship_tag": "ABX9TyODAVOT+iQ2GMu4OpOTsti9",
      "include_colab_link": true
    },
    "kernelspec": {
      "name": "python3",
      "display_name": "Python 3"
    },
    "language_info": {
      "name": "python"
    }
  },
  "cells": [
    {
      "cell_type": "markdown",
      "metadata": {
        "id": "view-in-github",
        "colab_type": "text"
      },
      "source": [
        "<a href=\"https://colab.research.google.com/github/sj7890/poer-bi-project/blob/main/float.ipynb\" target=\"_parent\"><img src=\"https://colab.research.google.com/assets/colab-badge.svg\" alt=\"Open In Colab\"/></a>"
      ]
    },
    {
      "cell_type": "code",
      "source": [
        "a=float(input(\"Enter the first number: \"))\n",
        "b=float(input(\"Enter the second number: \"))\n",
        "#Addition od two number\n",
        "c=a+b\n",
        "print(\"Addition of two number: \", c)\n",
        "#Multiplication of two number\n",
        "d=a*b\n",
        "print(\"Multiplication of two number: \",d)"
      ],
      "metadata": {
        "colab": {
          "base_uri": "https://localhost:8080/"
        },
        "id": "rd2SefBtEfTr",
        "outputId": "f3a0b06e-4f8e-4f81-8ee6-39e4486bd8b1"
      },
      "execution_count": 1,
      "outputs": [
        {
          "output_type": "stream",
          "name": "stdout",
          "text": [
            "Enter the first number: 20.5\n",
            "Enter the second number: 30.4\n",
            "Addition of two number:  50.9\n",
            "Multiplication of two number:  623.1999999999999\n"
          ]
        }
      ]
    },
    {
      "cell_type": "code",
      "source": [
        "a=float(input(\"Enter the first number: \"))\n",
        "b=float(input(\"Enter the second number: \"))\n",
        "#Addition od two number\n",
        "c=a+b\n",
        "print(\"Addition of two number: \", c)\n",
        "#Multiplication of two number\n",
        "d=a*b\n",
        "print(\"Multiplication of two number: \",d)"
      ],
      "metadata": {
        "colab": {
          "base_uri": "https://localhost:8080/"
        },
        "id": "EBGEsUgfFNNr",
        "outputId": "bf3555c2-8636-45e4-a93e-48b3f25886cd"
      },
      "execution_count": 2,
      "outputs": [
        {
          "output_type": "stream",
          "name": "stdout",
          "text": [
            "Enter the first number: 128.25\n",
            "Enter the second number: 456.2\n",
            "Addition of two number:  584.45\n",
            "Multiplication of two number:  58507.65\n"
          ]
        }
      ]
    },
    {
      "cell_type": "code",
      "source": [
        "a=float(input(\"Enter the first number: \"))\n",
        "b=float(input(\"Enter the second number: \"))\n",
        "#Addition od two number\n",
        "c=a+b\n",
        "print(\"Addition of two number: \", c)\n",
        "#Multiplication of two number\n",
        "d=a*b\n",
        "print(\"Multiplication of two number: \",d)"
      ],
      "metadata": {
        "colab": {
          "base_uri": "https://localhost:8080/"
        },
        "id": "MJsocw3IFYDd",
        "outputId": "412352c7-23ec-42e6-fbf7-3d708a9fe3e9"
      },
      "execution_count": 3,
      "outputs": [
        {
          "output_type": "stream",
          "name": "stdout",
          "text": [
            "Enter the first number: 456.123\n",
            "Enter the second number: 892.20\n",
            "Addition of two number:  1348.323\n",
            "Multiplication of two number:  406952.94060000003\n"
          ]
        }
      ]
    },
    {
      "cell_type": "code",
      "source": [
        "a=float(input(\"Enter the first number: \"))\n",
        "b=float(input(\"Enter the second number: \"))\n",
        "#Addition od two number\n",
        "c=a+b\n",
        "print(\"Addition of two number: \", c)\n",
        "#Multiplication of two number\n",
        "d=a*b\n",
        "print(\"Multiplication of two number: \",d)"
      ],
      "metadata": {
        "colab": {
          "base_uri": "https://localhost:8080/"
        },
        "id": "7C2uABslFYob",
        "outputId": "44666d3e-e71d-4514-bc87-5213a3e4009e"
      },
      "execution_count": 4,
      "outputs": [
        {
          "output_type": "stream",
          "name": "stdout",
          "text": [
            "Enter the first number: 9.5\n",
            "Enter the second number: 2.3\n",
            "Addition of two number:  11.8\n",
            "Multiplication of two number:  21.849999999999998\n"
          ]
        }
      ]
    },
    {
      "cell_type": "code",
      "source": [
        "a=float(input(\"Enter the first number: \"))\n",
        "b=float(input(\"Enter the second number: \"))\n",
        "#Addition od two number\n",
        "c=a+b\n",
        "print(\"Addition of two number: \", c)\n",
        "#Multiplication of two number\n",
        "d=a*b\n",
        "print(\"Multiplication of two number: \",d)"
      ],
      "metadata": {
        "colab": {
          "base_uri": "https://localhost:8080/"
        },
        "id": "ftpJQ7z4FZOz",
        "outputId": "604a2213-8a5a-4691-c8bf-aea6cee4d461"
      },
      "execution_count": 5,
      "outputs": [
        {
          "output_type": "stream",
          "name": "stdout",
          "text": [
            "Enter the first number: 50.2\n",
            "Enter the second number: 60.9\n",
            "Addition of two number:  111.1\n",
            "Multiplication of two number:  3057.1800000000003\n"
          ]
        }
      ]
    },
    {
      "cell_type": "code",
      "source": [],
      "metadata": {
        "id": "pbgMUoQjFkki"
      },
      "execution_count": null,
      "outputs": []
    }
  ]
}